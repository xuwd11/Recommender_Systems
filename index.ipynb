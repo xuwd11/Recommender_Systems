{
 "cells": [
  {
   "cell_type": "markdown",
   "metadata": {},
   "source": [
    "# Recommender systems: a celebration of collaborative filtering and content filtering"
   ]
  },
  {
   "cell_type": "markdown",
   "metadata": {},
   "source": [
    "## Result summary"
   ]
  },
  {
   "cell_type": "code",
   "execution_count": 1,
   "metadata": {
    "collapsed": true
   },
   "outputs": [],
   "source": [
    "import sys\n",
    "import traceback\n",
    "import pandas as pd\n",
    "import numpy as np\n",
    "import time\n",
    "from copy import deepcopy\n",
    "\n",
    "from sklearn.base import BaseEstimator\n",
    "from sklearn.model_selection import train_test_split\n",
    "from sklearn.model_selection import GridSearchCV\n",
    "from sklearn.metrics import r2_score\n",
    "from sklearn.metrics import mean_squared_error\n",
    "from sklearn.metrics import accuracy_score\n",
    "from sklearn.metrics import confusion_matrix\n",
    "\n",
    "from sklearn.linear_model import Ridge, RidgeCV\n",
    "from sklearn.ensemble import RandomForestRegressor, RandomForestClassifier\n",
    "\n",
    "from scipy import sparse\n",
    "\n",
    "import pickle\n",
    "\n",
    "from IPython.display import display, HTML, Markdown\n",
    "\n",
    "import matplotlib\n",
    "import matplotlib.pyplot as plt\n",
    "\n",
    "import seaborn as sns\n",
    "pd.set_option('display.width', 15000)\n",
    "pd.set_option('display.max_columns', 100)\n",
    "sns.set_style(\"whitegrid\", {'axes.grid' : False})\n",
    "sns.set_context('poster')\n",
    "%matplotlib inline\n",
    "\n",
    "from surprise import Dataset, Reader\n",
    "from surprise import NormalPredictor, BaselineOnly, SVD, SVDpp, NMF, \\\n",
    "SlopeOne, CoClustering, KNNBasic, KNNWithMeans, KNNBaseline\n",
    "\n",
    "from recommender import plot_cm, get_results, show_results, IO, \\\n",
    "show_summaries, get_base_predictions, get_multi_base_predictions\n",
    "from recommender import ModeClassifier, BaselineMean, BaselineRegression, ALS1, ALS2, RS_surprise, RS_ensemble"
   ]
  },
  {
   "cell_type": "code",
   "execution_count": 2,
   "metadata": {
    "scrolled": false
   },
   "outputs": [
    {
     "data": {
      "text/markdown": [
       "## Champaign <sup>(20571 reviews, 878 restaurants, 8451 users)</sup>"
      ],
      "text/plain": [
       "<IPython.core.display.Markdown object>"
      ]
     },
     "metadata": {},
     "output_type": "display_data"
    },
    {
     "data": {
      "text/markdown": [
       "**Collaborative filtering**"
      ],
      "text/plain": [
       "<IPython.core.display.Markdown object>"
      ]
     },
     "metadata": {},
     "output_type": "display_data"
    },
    {
     "data": {
      "text/html": [
       "<table border=\"1\" class=\"dataframe\">\n",
       "  <thead>\n",
       "    <tr style=\"text-align: right;\">\n",
       "      <th>model</th>\n",
       "      <th>fitting time (s)</th>\n",
       "      <th>train RMSE</th>\n",
       "      <th>test RMSE</th>\n",
       "      <th>train $R^2$</th>\n",
       "      <th>test $R^2$</th>\n",
       "    </tr>\n",
       "  </thead>\n",
       "  <tbody>\n",
       "    <tr>\n",
       "      <td>Mode estimator</td>\n",
       "      <td>0.0000</td>\n",
       "      <td>1.9995</td>\n",
       "      <td>2.0258</td>\n",
       "      <td>-0.9501</td>\n",
       "      <td>-0.9500</td>\n",
       "    </tr>\n",
       "    <tr>\n",
       "      <td>Normal predictor*</td>\n",
       "      <td>0.0870</td>\n",
       "      <td>1.8584</td>\n",
       "      <td>1.8823</td>\n",
       "      <td>-0.6846</td>\n",
       "      <td>-0.6835</td>\n",
       "    </tr>\n",
       "    <tr>\n",
       "      <td>Baseline (mean)</td>\n",
       "      <td>0.0190</td>\n",
       "      <td>0.9485</td>\n",
       "      <td>1.4648</td>\n",
       "      <td>0.5612</td>\n",
       "      <td>-0.0195</td>\n",
       "    </tr>\n",
       "    <tr>\n",
       "      <td>Baseline (regression)</td>\n",
       "      <td>0.0460</td>\n",
       "      <td>0.8532</td>\n",
       "      <td>1.3306</td>\n",
       "      <td>0.6449</td>\n",
       "      <td>0.1587</td>\n",
       "    </tr>\n",
       "    <tr>\n",
       "      <td>Baseline (ALS)*</td>\n",
       "      <td>0.0550</td>\n",
       "      <td>1.1981</td>\n",
       "      <td>1.3200</td>\n",
       "      <td>0.2998</td>\n",
       "      <td>0.1721</td>\n",
       "    </tr>\n",
       "    <tr>\n",
       "      <td>KNN (basic)*</td>\n",
       "      <td>0.9481</td>\n",
       "      <td>0.4328</td>\n",
       "      <td>1.4642</td>\n",
       "      <td>0.9086</td>\n",
       "      <td>-0.0187</td>\n",
       "    </tr>\n",
       "    <tr>\n",
       "      <td>KNN (with means)*</td>\n",
       "      <td>1.0791</td>\n",
       "      <td>0.5898</td>\n",
       "      <td>1.5310</td>\n",
       "      <td>0.8303</td>\n",
       "      <td>-0.1138</td>\n",
       "    </tr>\n",
       "    <tr>\n",
       "      <td>KNN (baseline)*</td>\n",
       "      <td>1.2141</td>\n",
       "      <td>0.4175</td>\n",
       "      <td>1.3718</td>\n",
       "      <td>0.9150</td>\n",
       "      <td>0.1058</td>\n",
       "    </tr>\n",
       "    <tr>\n",
       "      <td>SVD-ALS1</td>\n",
       "      <td>23.8384</td>\n",
       "      <td>0.6702</td>\n",
       "      <td>1.3067</td>\n",
       "      <td>0.7809</td>\n",
       "      <td>0.1886</td>\n",
       "    </tr>\n",
       "    <tr>\n",
       "      <td>SVD-ALS2</td>\n",
       "      <td>25.5235</td>\n",
       "      <td>0.6712</td>\n",
       "      <td>1.3104</td>\n",
       "      <td>0.7803</td>\n",
       "      <td>0.1841</td>\n",
       "    </tr>\n",
       "    <tr>\n",
       "      <td>SVD-SGD*</td>\n",
       "      <td>1.0701</td>\n",
       "      <td>0.8929</td>\n",
       "      <td>1.3173</td>\n",
       "      <td>0.6111</td>\n",
       "      <td>0.1754</td>\n",
       "    </tr>\n",
       "    <tr>\n",
       "      <td>SVD++-SGD*</td>\n",
       "      <td>3.3652</td>\n",
       "      <td>0.9285</td>\n",
       "      <td>1.3220</td>\n",
       "      <td>0.5795</td>\n",
       "      <td>0.1695</td>\n",
       "    </tr>\n",
       "    <tr>\n",
       "      <td>NMF-SGD*</td>\n",
       "      <td>1.1361</td>\n",
       "      <td>0.2485</td>\n",
       "      <td>1.5226</td>\n",
       "      <td>0.9699</td>\n",
       "      <td>-0.1016</td>\n",
       "    </tr>\n",
       "    <tr>\n",
       "      <td>Slope one*</td>\n",
       "      <td>0.1450</td>\n",
       "      <td>0.3545</td>\n",
       "      <td>1.5546</td>\n",
       "      <td>0.9387</td>\n",
       "      <td>-0.1484</td>\n",
       "    </tr>\n",
       "    <tr>\n",
       "      <td>Co-clustering*</td>\n",
       "      <td>1.1471</td>\n",
       "      <td>0.8066</td>\n",
       "      <td>1.4792</td>\n",
       "      <td>0.6826</td>\n",
       "      <td>-0.0398</td>\n",
       "    </tr>\n",
       "  </tbody>\n",
       "</table>"
      ],
      "text/plain": [
       "<IPython.core.display.HTML object>"
      ]
     },
     "metadata": {},
     "output_type": "display_data"
    },
    {
     "data": {
      "text/markdown": [
       "<sup>(* shows the algorithms we implemented by wrapping around     methods in scikit-surprise python package)</sup>"
      ],
      "text/plain": [
       "<IPython.core.display.Markdown object>"
      ]
     },
     "metadata": {},
     "output_type": "display_data"
    },
    {
     "data": {
      "text/markdown": [
       "**Content filtering**"
      ],
      "text/plain": [
       "<IPython.core.display.Markdown object>"
      ]
     },
     "metadata": {},
     "output_type": "display_data"
    },
    {
     "data": {
      "text/html": [
       "<table border=\"1\" class=\"dataframe\">\n",
       "  <thead>\n",
       "    <tr style=\"text-align: right;\">\n",
       "      <th>model</th>\n",
       "      <th>fitting time (s)</th>\n",
       "      <th>train RMSE</th>\n",
       "      <th>test RMSE</th>\n",
       "      <th>train $R^2$</th>\n",
       "      <th>test $R^2$</th>\n",
       "    </tr>\n",
       "  </thead>\n",
       "  <tbody>\n",
       "    <tr>\n",
       "      <td>Ridge regression</td>\n",
       "      <td>0.0690</td>\n",
       "      <td>1.0773</td>\n",
       "      <td>1.0971</td>\n",
       "      <td>0.4339</td>\n",
       "      <td>0.4280</td>\n",
       "    </tr>\n",
       "    <tr>\n",
       "      <td>Random forest</td>\n",
       "      <td>1.0951</td>\n",
       "      <td>1.0262</td>\n",
       "      <td>1.0862</td>\n",
       "      <td>0.4864</td>\n",
       "      <td>0.4394</td>\n",
       "    </tr>\n",
       "  </tbody>\n",
       "</table>"
      ],
      "text/plain": [
       "<IPython.core.display.HTML object>"
      ]
     },
     "metadata": {},
     "output_type": "display_data"
    },
    {
     "data": {
      "text/markdown": [
       "**Ensemble**"
      ],
      "text/plain": [
       "<IPython.core.display.Markdown object>"
      ]
     },
     "metadata": {},
     "output_type": "display_data"
    },
    {
     "data": {
      "text/html": [
       "<table border=\"1\" class=\"dataframe\">\n",
       "  <thead>\n",
       "    <tr style=\"text-align: right;\">\n",
       "      <th>model</th>\n",
       "      <th>fitting time (s)</th>\n",
       "      <th>train RMSE</th>\n",
       "      <th>test RMSE</th>\n",
       "      <th>train $R^2$</th>\n",
       "      <th>test $R^2$</th>\n",
       "    </tr>\n",
       "  </thead>\n",
       "  <tbody>\n",
       "    <tr>\n",
       "      <td>Ensemble1 (weighted average)</td>\n",
       "      <td>0.000</td>\n",
       "      <td>0.8115</td>\n",
       "      <td>1.3059</td>\n",
       "      <td>0.6788</td>\n",
       "      <td>0.1897</td>\n",
       "    </tr>\n",
       "    <tr>\n",
       "      <td>Ensemble1 (Ridge regression)</td>\n",
       "      <td>0.009</td>\n",
       "      <td>1.1826</td>\n",
       "      <td>1.3031</td>\n",
       "      <td>0.3178</td>\n",
       "      <td>0.1931</td>\n",
       "    </tr>\n",
       "    <tr>\n",
       "      <td>Ensemble1 (random forest)</td>\n",
       "      <td>0.223</td>\n",
       "      <td>0.9920</td>\n",
       "      <td>1.3017</td>\n",
       "      <td>0.5200</td>\n",
       "      <td>0.1949</td>\n",
       "    </tr>\n",
       "    <tr>\n",
       "      <td>Ensemble2 (weighted average)</td>\n",
       "      <td>0.000</td>\n",
       "      <td>0.8826</td>\n",
       "      <td>1.1566</td>\n",
       "      <td>0.6200</td>\n",
       "      <td>0.3643</td>\n",
       "    </tr>\n",
       "    <tr>\n",
       "      <td>Ensemble2 (Ridge regression)</td>\n",
       "      <td>0.004</td>\n",
       "      <td>1.2147</td>\n",
       "      <td>1.0813</td>\n",
       "      <td>0.2803</td>\n",
       "      <td>0.4444</td>\n",
       "    </tr>\n",
       "    <tr>\n",
       "      <td>Ensemble2 (random forest)</td>\n",
       "      <td>0.272</td>\n",
       "      <td>1.0645</td>\n",
       "      <td>1.0850</td>\n",
       "      <td>0.4473</td>\n",
       "      <td>0.4406</td>\n",
       "    </tr>\n",
       "  </tbody>\n",
       "</table>"
      ],
      "text/plain": [
       "<IPython.core.display.HTML object>"
      ]
     },
     "metadata": {},
     "output_type": "display_data"
    },
    {
     "data": {
      "text/markdown": [
       "<sup>(Ensemble1 represents the ensemble of collaborative filtering models;     Ensemble2 represents the ensemble of collaborative filtering and content filtering models)</sup>"
      ],
      "text/plain": [
       "<IPython.core.display.Markdown object>"
      ]
     },
     "metadata": {},
     "output_type": "display_data"
    },
    {
     "data": {
      "text/markdown": [
       "\n",
       "    \n",
       "    "
      ],
      "text/plain": [
       "<IPython.core.display.Markdown object>"
      ]
     },
     "metadata": {},
     "output_type": "display_data"
    },
    {
     "data": {
      "text/markdown": [
       "## Cleveland <sup>(75932 reviews, 2500 restaurants, 30131 users)</sup>"
      ],
      "text/plain": [
       "<IPython.core.display.Markdown object>"
      ]
     },
     "metadata": {},
     "output_type": "display_data"
    },
    {
     "data": {
      "text/markdown": [
       "**Collaborative filtering**"
      ],
      "text/plain": [
       "<IPython.core.display.Markdown object>"
      ]
     },
     "metadata": {},
     "output_type": "display_data"
    },
    {
     "data": {
      "text/html": [
       "<table border=\"1\" class=\"dataframe\">\n",
       "  <thead>\n",
       "    <tr style=\"text-align: right;\">\n",
       "      <th>model</th>\n",
       "      <th>fitting time (s)</th>\n",
       "      <th>train RMSE</th>\n",
       "      <th>test RMSE</th>\n",
       "      <th>train $R^2$</th>\n",
       "      <th>test $R^2$</th>\n",
       "    </tr>\n",
       "  </thead>\n",
       "  <tbody>\n",
       "    <tr>\n",
       "      <td>Mode estimator</td>\n",
       "      <td>0.0000</td>\n",
       "      <td>1.8152</td>\n",
       "      <td>1.8262</td>\n",
       "      <td>-0.8226</td>\n",
       "      <td>-0.8371</td>\n",
       "    </tr>\n",
       "    <tr>\n",
       "      <td>Normal predictor*</td>\n",
       "      <td>0.2050</td>\n",
       "      <td>1.7514</td>\n",
       "      <td>1.7529</td>\n",
       "      <td>-0.6968</td>\n",
       "      <td>-0.6926</td>\n",
       "    </tr>\n",
       "    <tr>\n",
       "      <td>Baseline (mean)</td>\n",
       "      <td>0.0530</td>\n",
       "      <td>0.8908</td>\n",
       "      <td>1.3417</td>\n",
       "      <td>0.5610</td>\n",
       "      <td>0.0084</td>\n",
       "    </tr>\n",
       "    <tr>\n",
       "      <td>Baseline (regression)</td>\n",
       "      <td>0.1400</td>\n",
       "      <td>0.8088</td>\n",
       "      <td>1.2235</td>\n",
       "      <td>0.6381</td>\n",
       "      <td>0.1753</td>\n",
       "    </tr>\n",
       "    <tr>\n",
       "      <td>Baseline (ALS)*</td>\n",
       "      <td>0.2630</td>\n",
       "      <td>1.1171</td>\n",
       "      <td>1.2170</td>\n",
       "      <td>0.3097</td>\n",
       "      <td>0.1841</td>\n",
       "    </tr>\n",
       "    <tr>\n",
       "      <td>KNN (basic)*</td>\n",
       "      <td>14.1758</td>\n",
       "      <td>0.3952</td>\n",
       "      <td>1.3484</td>\n",
       "      <td>0.9136</td>\n",
       "      <td>-0.0016</td>\n",
       "    </tr>\n",
       "    <tr>\n",
       "      <td>KNN (with means)*</td>\n",
       "      <td>12.5127</td>\n",
       "      <td>0.5600</td>\n",
       "      <td>1.4020</td>\n",
       "      <td>0.8265</td>\n",
       "      <td>-0.0829</td>\n",
       "    </tr>\n",
       "    <tr>\n",
       "      <td>KNN (baseline)*</td>\n",
       "      <td>12.6187</td>\n",
       "      <td>0.3837</td>\n",
       "      <td>1.2612</td>\n",
       "      <td>0.9186</td>\n",
       "      <td>0.1237</td>\n",
       "    </tr>\n",
       "    <tr>\n",
       "      <td>SVD-ALS1</td>\n",
       "      <td>79.7376</td>\n",
       "      <td>0.5680</td>\n",
       "      <td>1.2103</td>\n",
       "      <td>0.8215</td>\n",
       "      <td>0.1931</td>\n",
       "    </tr>\n",
       "    <tr>\n",
       "      <td>SVD-ALS2</td>\n",
       "      <td>83.2458</td>\n",
       "      <td>0.5696</td>\n",
       "      <td>1.2130</td>\n",
       "      <td>0.8206</td>\n",
       "      <td>0.1895</td>\n",
       "    </tr>\n",
       "    <tr>\n",
       "      <td>SVD-SGD*</td>\n",
       "      <td>4.2412</td>\n",
       "      <td>0.8239</td>\n",
       "      <td>1.2204</td>\n",
       "      <td>0.6245</td>\n",
       "      <td>0.1796</td>\n",
       "    </tr>\n",
       "    <tr>\n",
       "      <td>SVD++-SGD*</td>\n",
       "      <td>15.4449</td>\n",
       "      <td>0.8628</td>\n",
       "      <td>1.2232</td>\n",
       "      <td>0.5882</td>\n",
       "      <td>0.1758</td>\n",
       "    </tr>\n",
       "    <tr>\n",
       "      <td>NMF-SGD*</td>\n",
       "      <td>4.9713</td>\n",
       "      <td>0.3102</td>\n",
       "      <td>1.3997</td>\n",
       "      <td>0.9468</td>\n",
       "      <td>-0.0793</td>\n",
       "    </tr>\n",
       "    <tr>\n",
       "      <td>Slope one*</td>\n",
       "      <td>0.7530</td>\n",
       "      <td>0.3622</td>\n",
       "      <td>1.4140</td>\n",
       "      <td>0.9274</td>\n",
       "      <td>-0.1013</td>\n",
       "    </tr>\n",
       "    <tr>\n",
       "      <td>Co-clustering*</td>\n",
       "      <td>4.0572</td>\n",
       "      <td>0.7050</td>\n",
       "      <td>1.3656</td>\n",
       "      <td>0.7251</td>\n",
       "      <td>-0.0273</td>\n",
       "    </tr>\n",
       "  </tbody>\n",
       "</table>"
      ],
      "text/plain": [
       "<IPython.core.display.HTML object>"
      ]
     },
     "metadata": {},
     "output_type": "display_data"
    },
    {
     "data": {
      "text/markdown": [
       "<sup>(* shows the algorithms we implemented by wrapping around     methods in scikit-surprise python package)</sup>"
      ],
      "text/plain": [
       "<IPython.core.display.Markdown object>"
      ]
     },
     "metadata": {},
     "output_type": "display_data"
    },
    {
     "data": {
      "text/markdown": [
       "**Content filtering**"
      ],
      "text/plain": [
       "<IPython.core.display.Markdown object>"
      ]
     },
     "metadata": {},
     "output_type": "display_data"
    },
    {
     "data": {
      "text/html": [
       "<table border=\"1\" class=\"dataframe\">\n",
       "  <thead>\n",
       "    <tr style=\"text-align: right;\">\n",
       "      <th>model</th>\n",
       "      <th>fitting time (s)</th>\n",
       "      <th>train RMSE</th>\n",
       "      <th>test RMSE</th>\n",
       "      <th>train $R^2$</th>\n",
       "      <th>test $R^2$</th>\n",
       "    </tr>\n",
       "  </thead>\n",
       "  <tbody>\n",
       "    <tr>\n",
       "      <td>Ridge regression</td>\n",
       "      <td>0.2860</td>\n",
       "      <td>1.0195</td>\n",
       "      <td>1.0313</td>\n",
       "      <td>0.4251</td>\n",
       "      <td>0.4141</td>\n",
       "    </tr>\n",
       "    <tr>\n",
       "      <td>Random forest</td>\n",
       "      <td>4.7943</td>\n",
       "      <td>0.9929</td>\n",
       "      <td>1.0155</td>\n",
       "      <td>0.4546</td>\n",
       "      <td>0.4320</td>\n",
       "    </tr>\n",
       "  </tbody>\n",
       "</table>"
      ],
      "text/plain": [
       "<IPython.core.display.HTML object>"
      ]
     },
     "metadata": {},
     "output_type": "display_data"
    },
    {
     "data": {
      "text/markdown": [
       "**Ensemble**"
      ],
      "text/plain": [
       "<IPython.core.display.Markdown object>"
      ]
     },
     "metadata": {},
     "output_type": "display_data"
    },
    {
     "data": {
      "text/html": [
       "<table border=\"1\" class=\"dataframe\">\n",
       "  <thead>\n",
       "    <tr style=\"text-align: right;\">\n",
       "      <th>model</th>\n",
       "      <th>fitting time (s)</th>\n",
       "      <th>train RMSE</th>\n",
       "      <th>test RMSE</th>\n",
       "      <th>train $R^2$</th>\n",
       "      <th>test $R^2$</th>\n",
       "    </tr>\n",
       "  </thead>\n",
       "  <tbody>\n",
       "    <tr>\n",
       "      <td>Ensemble1 (weighted average)</td>\n",
       "      <td>0.0000</td>\n",
       "      <td>0.7191</td>\n",
       "      <td>1.2072</td>\n",
       "      <td>0.7140</td>\n",
       "      <td>0.1971</td>\n",
       "    </tr>\n",
       "    <tr>\n",
       "      <td>Ensemble1 (Ridge regression)</td>\n",
       "      <td>0.0050</td>\n",
       "      <td>0.8871</td>\n",
       "      <td>1.2043</td>\n",
       "      <td>0.5646</td>\n",
       "      <td>0.2011</td>\n",
       "    </tr>\n",
       "    <tr>\n",
       "      <td>Ensemble1 (random forest)</td>\n",
       "      <td>0.7210</td>\n",
       "      <td>0.8811</td>\n",
       "      <td>1.2063</td>\n",
       "      <td>0.5706</td>\n",
       "      <td>0.1984</td>\n",
       "    </tr>\n",
       "    <tr>\n",
       "      <td>Ensemble2 (weighted average)</td>\n",
       "      <td>0.0000</td>\n",
       "      <td>0.8028</td>\n",
       "      <td>1.0899</td>\n",
       "      <td>0.6435</td>\n",
       "      <td>0.3456</td>\n",
       "    </tr>\n",
       "    <tr>\n",
       "      <td>Ensemble2 (Ridge regression)</td>\n",
       "      <td>0.0060</td>\n",
       "      <td>1.0329</td>\n",
       "      <td>1.0143</td>\n",
       "      <td>0.4099</td>\n",
       "      <td>0.4333</td>\n",
       "    </tr>\n",
       "    <tr>\n",
       "      <td>Ensemble2 (random forest)</td>\n",
       "      <td>0.9471</td>\n",
       "      <td>0.9987</td>\n",
       "      <td>1.0181</td>\n",
       "      <td>0.4483</td>\n",
       "      <td>0.4290</td>\n",
       "    </tr>\n",
       "  </tbody>\n",
       "</table>"
      ],
      "text/plain": [
       "<IPython.core.display.HTML object>"
      ]
     },
     "metadata": {},
     "output_type": "display_data"
    },
    {
     "data": {
      "text/markdown": [
       "<sup>(Ensemble1 represents the ensemble of collaborative filtering models;     Ensemble2 represents the ensemble of collaborative filtering and content filtering models)</sup>"
      ],
      "text/plain": [
       "<IPython.core.display.Markdown object>"
      ]
     },
     "metadata": {},
     "output_type": "display_data"
    },
    {
     "data": {
      "text/markdown": [
       "\n",
       "    \n",
       "    "
      ],
      "text/plain": [
       "<IPython.core.display.Markdown object>"
      ]
     },
     "metadata": {},
     "output_type": "display_data"
    },
    {
     "data": {
      "text/markdown": [
       "## Pittsburgh <sup>(143682 reviews, 4745 restaurants, 46179 users)</sup>"
      ],
      "text/plain": [
       "<IPython.core.display.Markdown object>"
      ]
     },
     "metadata": {},
     "output_type": "display_data"
    },
    {
     "data": {
      "text/markdown": [
       "**Collaborative filtering**"
      ],
      "text/plain": [
       "<IPython.core.display.Markdown object>"
      ]
     },
     "metadata": {},
     "output_type": "display_data"
    },
    {
     "data": {
      "text/html": [
       "<table border=\"1\" class=\"dataframe\">\n",
       "  <thead>\n",
       "    <tr style=\"text-align: right;\">\n",
       "      <th>model</th>\n",
       "      <th>fitting time (s)</th>\n",
       "      <th>train RMSE</th>\n",
       "      <th>test RMSE</th>\n",
       "      <th>train $R^2$</th>\n",
       "      <th>test $R^2$</th>\n",
       "    </tr>\n",
       "  </thead>\n",
       "  <tbody>\n",
       "    <tr>\n",
       "      <td>Mode estimator</td>\n",
       "      <td>0.0000</td>\n",
       "      <td>1.8026</td>\n",
       "      <td>1.7988</td>\n",
       "      <td>-0.8466</td>\n",
       "      <td>-0.8393</td>\n",
       "    </tr>\n",
       "    <tr>\n",
       "      <td>Normal predictor*</td>\n",
       "      <td>0.4680</td>\n",
       "      <td>1.7363</td>\n",
       "      <td>1.7294</td>\n",
       "      <td>-0.7134</td>\n",
       "      <td>-0.7000</td>\n",
       "    </tr>\n",
       "    <tr>\n",
       "      <td>Baseline (mean)</td>\n",
       "      <td>0.1100</td>\n",
       "      <td>0.9052</td>\n",
       "      <td>1.3198</td>\n",
       "      <td>0.5343</td>\n",
       "      <td>0.0099</td>\n",
       "    </tr>\n",
       "    <tr>\n",
       "      <td>Baseline (regression)</td>\n",
       "      <td>0.7630</td>\n",
       "      <td>0.8444</td>\n",
       "      <td>1.2042</td>\n",
       "      <td>0.5948</td>\n",
       "      <td>0.1758</td>\n",
       "    </tr>\n",
       "    <tr>\n",
       "      <td>Baseline (ALS)*</td>\n",
       "      <td>0.5010</td>\n",
       "      <td>1.1119</td>\n",
       "      <td>1.2020</td>\n",
       "      <td>0.2974</td>\n",
       "      <td>0.1788</td>\n",
       "    </tr>\n",
       "    <tr>\n",
       "      <td>SVD-ALS1</td>\n",
       "      <td>153.0878</td>\n",
       "      <td>0.5579</td>\n",
       "      <td>1.1959</td>\n",
       "      <td>0.8231</td>\n",
       "      <td>0.1871</td>\n",
       "    </tr>\n",
       "    <tr>\n",
       "      <td>SVD-ALS2</td>\n",
       "      <td>173.3719</td>\n",
       "      <td>0.5597</td>\n",
       "      <td>1.2014</td>\n",
       "      <td>0.8220</td>\n",
       "      <td>0.1796</td>\n",
       "    </tr>\n",
       "    <tr>\n",
       "      <td>SVD-SGD*</td>\n",
       "      <td>7.6164</td>\n",
       "      <td>0.8267</td>\n",
       "      <td>1.2046</td>\n",
       "      <td>0.6116</td>\n",
       "      <td>0.1752</td>\n",
       "    </tr>\n",
       "    <tr>\n",
       "      <td>SVD++-SGD*</td>\n",
       "      <td>43.6755</td>\n",
       "      <td>0.8738</td>\n",
       "      <td>1.2025</td>\n",
       "      <td>0.5661</td>\n",
       "      <td>0.1780</td>\n",
       "    </tr>\n",
       "    <tr>\n",
       "      <td>NMF-SGD*</td>\n",
       "      <td>8.6365</td>\n",
       "      <td>0.3666</td>\n",
       "      <td>1.3761</td>\n",
       "      <td>0.9236</td>\n",
       "      <td>-0.0765</td>\n",
       "    </tr>\n",
       "    <tr>\n",
       "      <td>Slope one*</td>\n",
       "      <td>1.6071</td>\n",
       "      <td>0.3685</td>\n",
       "      <td>1.3870</td>\n",
       "      <td>0.9228</td>\n",
       "      <td>-0.0935</td>\n",
       "    </tr>\n",
       "    <tr>\n",
       "      <td>Co-clustering*</td>\n",
       "      <td>7.6054</td>\n",
       "      <td>0.7938</td>\n",
       "      <td>1.3291</td>\n",
       "      <td>0.6419</td>\n",
       "      <td>-0.0041</td>\n",
       "    </tr>\n",
       "  </tbody>\n",
       "</table>"
      ],
      "text/plain": [
       "<IPython.core.display.HTML object>"
      ]
     },
     "metadata": {},
     "output_type": "display_data"
    },
    {
     "data": {
      "text/markdown": [
       "<sup>(* shows the algorithms we implemented by wrapping around     methods in scikit-surprise python package)</sup>"
      ],
      "text/plain": [
       "<IPython.core.display.Markdown object>"
      ]
     },
     "metadata": {},
     "output_type": "display_data"
    },
    {
     "data": {
      "text/markdown": [
       "**Content filtering**"
      ],
      "text/plain": [
       "<IPython.core.display.Markdown object>"
      ]
     },
     "metadata": {},
     "output_type": "display_data"
    },
    {
     "data": {
      "text/html": [
       "<table border=\"1\" class=\"dataframe\">\n",
       "  <thead>\n",
       "    <tr style=\"text-align: right;\">\n",
       "      <th>model</th>\n",
       "      <th>fitting time (s)</th>\n",
       "      <th>train RMSE</th>\n",
       "      <th>test RMSE</th>\n",
       "      <th>train $R^2$</th>\n",
       "      <th>test $R^2$</th>\n",
       "    </tr>\n",
       "  </thead>\n",
       "  <tbody>\n",
       "    <tr>\n",
       "      <td>Ridge regression</td>\n",
       "      <td>0.5500</td>\n",
       "      <td>1.0158</td>\n",
       "      <td>1.0062</td>\n",
       "      <td>0.4135</td>\n",
       "      <td>0.4245</td>\n",
       "    </tr>\n",
       "    <tr>\n",
       "      <td>Random forest</td>\n",
       "      <td>10.1126</td>\n",
       "      <td>0.9938</td>\n",
       "      <td>0.9896</td>\n",
       "      <td>0.4388</td>\n",
       "      <td>0.4434</td>\n",
       "    </tr>\n",
       "  </tbody>\n",
       "</table>"
      ],
      "text/plain": [
       "<IPython.core.display.HTML object>"
      ]
     },
     "metadata": {},
     "output_type": "display_data"
    },
    {
     "data": {
      "text/markdown": [
       "**Ensemble**"
      ],
      "text/plain": [
       "<IPython.core.display.Markdown object>"
      ]
     },
     "metadata": {},
     "output_type": "display_data"
    },
    {
     "data": {
      "text/html": [
       "<table border=\"1\" class=\"dataframe\">\n",
       "  <thead>\n",
       "    <tr style=\"text-align: right;\">\n",
       "      <th>model</th>\n",
       "      <th>fitting time (s)</th>\n",
       "      <th>train RMSE</th>\n",
       "      <th>test RMSE</th>\n",
       "      <th>train $R^2$</th>\n",
       "      <th>test $R^2$</th>\n",
       "    </tr>\n",
       "  </thead>\n",
       "  <tbody>\n",
       "    <tr>\n",
       "      <td>Ensemble1 (weighted average)</td>\n",
       "      <td>0.0000</td>\n",
       "      <td>0.7684</td>\n",
       "      <td>1.1900</td>\n",
       "      <td>0.6645</td>\n",
       "      <td>0.1951</td>\n",
       "    </tr>\n",
       "    <tr>\n",
       "      <td>Ensemble1 (Ridge regression)</td>\n",
       "      <td>0.0130</td>\n",
       "      <td>0.8872</td>\n",
       "      <td>1.1872</td>\n",
       "      <td>0.5527</td>\n",
       "      <td>0.1988</td>\n",
       "    </tr>\n",
       "    <tr>\n",
       "      <td>Ensemble1 (random forest)</td>\n",
       "      <td>1.3041</td>\n",
       "      <td>0.8644</td>\n",
       "      <td>1.1891</td>\n",
       "      <td>0.5754</td>\n",
       "      <td>0.1962</td>\n",
       "    </tr>\n",
       "    <tr>\n",
       "      <td>Ensemble2 (weighted average)</td>\n",
       "      <td>0.0000</td>\n",
       "      <td>0.8410</td>\n",
       "      <td>1.0594</td>\n",
       "      <td>0.5981</td>\n",
       "      <td>0.3620</td>\n",
       "    </tr>\n",
       "    <tr>\n",
       "      <td>Ensemble2 (Ridge regression)</td>\n",
       "      <td>0.0150</td>\n",
       "      <td>0.9928</td>\n",
       "      <td>0.9881</td>\n",
       "      <td>0.4399</td>\n",
       "      <td>0.4450</td>\n",
       "    </tr>\n",
       "    <tr>\n",
       "      <td>Ensemble2 (random forest)</td>\n",
       "      <td>1.7021</td>\n",
       "      <td>0.9995</td>\n",
       "      <td>0.9929</td>\n",
       "      <td>0.4323</td>\n",
       "      <td>0.4396</td>\n",
       "    </tr>\n",
       "  </tbody>\n",
       "</table>"
      ],
      "text/plain": [
       "<IPython.core.display.HTML object>"
      ]
     },
     "metadata": {},
     "output_type": "display_data"
    },
    {
     "data": {
      "text/markdown": [
       "<sup>(Ensemble1 represents the ensemble of collaborative filtering models;     Ensemble2 represents the ensemble of collaborative filtering and content filtering models)</sup>"
      ],
      "text/plain": [
       "<IPython.core.display.Markdown object>"
      ]
     },
     "metadata": {},
     "output_type": "display_data"
    },
    {
     "data": {
      "text/markdown": [
       "\n",
       "    \n",
       "    "
      ],
      "text/plain": [
       "<IPython.core.display.Markdown object>"
      ]
     },
     "metadata": {},
     "output_type": "display_data"
    },
    {
     "data": {
      "text/markdown": [
       "## Toronto <sup>(331407 reviews, 12118 restaurants, 77506 users)</sup>"
      ],
      "text/plain": [
       "<IPython.core.display.Markdown object>"
      ]
     },
     "metadata": {},
     "output_type": "display_data"
    },
    {
     "data": {
      "text/markdown": [
       "**Collaborative filtering**"
      ],
      "text/plain": [
       "<IPython.core.display.Markdown object>"
      ]
     },
     "metadata": {},
     "output_type": "display_data"
    },
    {
     "data": {
      "text/html": [
       "<table border=\"1\" class=\"dataframe\">\n",
       "  <thead>\n",
       "    <tr style=\"text-align: right;\">\n",
       "      <th>model</th>\n",
       "      <th>fitting time (s)</th>\n",
       "      <th>train RMSE</th>\n",
       "      <th>test RMSE</th>\n",
       "      <th>train $R^2$</th>\n",
       "      <th>test $R^2$</th>\n",
       "    </tr>\n",
       "  </thead>\n",
       "  <tbody>\n",
       "    <tr>\n",
       "      <td>Mode estimator</td>\n",
       "      <td>0.0000</td>\n",
       "      <td>1.8830</td>\n",
       "      <td>1.8801</td>\n",
       "      <td>-1.1173</td>\n",
       "      <td>-1.1219</td>\n",
       "    </tr>\n",
       "    <tr>\n",
       "      <td>Normal predictor*</td>\n",
       "      <td>1.0371</td>\n",
       "      <td>1.7052</td>\n",
       "      <td>1.7137</td>\n",
       "      <td>-0.7364</td>\n",
       "      <td>-0.7629</td>\n",
       "    </tr>\n",
       "    <tr>\n",
       "      <td>Baseline (mean)</td>\n",
       "      <td>0.2610</td>\n",
       "      <td>0.9293</td>\n",
       "      <td>1.2911</td>\n",
       "      <td>0.4843</td>\n",
       "      <td>-0.0006</td>\n",
       "    </tr>\n",
       "    <tr>\n",
       "      <td>Baseline (regression)</td>\n",
       "      <td>1.1211</td>\n",
       "      <td>0.8780</td>\n",
       "      <td>1.1828</td>\n",
       "      <td>0.5397</td>\n",
       "      <td>0.1602</td>\n",
       "    </tr>\n",
       "    <tr>\n",
       "      <td>Baseline (ALS)*</td>\n",
       "      <td>1.7001</td>\n",
       "      <td>1.0916</td>\n",
       "      <td>1.1730</td>\n",
       "      <td>0.2884</td>\n",
       "      <td>0.1740</td>\n",
       "    </tr>\n",
       "    <tr>\n",
       "      <td>SVD-ALS1</td>\n",
       "      <td>366.1459</td>\n",
       "      <td>0.5554</td>\n",
       "      <td>1.1745</td>\n",
       "      <td>0.8158</td>\n",
       "      <td>0.1719</td>\n",
       "    </tr>\n",
       "    <tr>\n",
       "      <td>SVD-ALS2</td>\n",
       "      <td>370.8472</td>\n",
       "      <td>0.5570</td>\n",
       "      <td>1.1795</td>\n",
       "      <td>0.8147</td>\n",
       "      <td>0.1649</td>\n",
       "    </tr>\n",
       "    <tr>\n",
       "      <td>SVD-SGD*</td>\n",
       "      <td>17.7350</td>\n",
       "      <td>0.8222</td>\n",
       "      <td>1.1772</td>\n",
       "      <td>0.5963</td>\n",
       "      <td>0.1681</td>\n",
       "    </tr>\n",
       "    <tr>\n",
       "      <td>SVD++-SGD*</td>\n",
       "      <td>122.0570</td>\n",
       "      <td>0.8730</td>\n",
       "      <td>1.1763</td>\n",
       "      <td>0.5449</td>\n",
       "      <td>0.1694</td>\n",
       "    </tr>\n",
       "    <tr>\n",
       "      <td>NMF-SGD*</td>\n",
       "      <td>20.0961</td>\n",
       "      <td>0.4094</td>\n",
       "      <td>1.3369</td>\n",
       "      <td>0.8999</td>\n",
       "      <td>-0.0729</td>\n",
       "    </tr>\n",
       "    <tr>\n",
       "      <td>Slope one*</td>\n",
       "      <td>5.9313</td>\n",
       "      <td>0.2959</td>\n",
       "      <td>1.3718</td>\n",
       "      <td>0.9477</td>\n",
       "      <td>-0.1296</td>\n",
       "    </tr>\n",
       "    <tr>\n",
       "      <td>Co-clustering*</td>\n",
       "      <td>17.1550</td>\n",
       "      <td>0.8344</td>\n",
       "      <td>1.2936</td>\n",
       "      <td>0.5842</td>\n",
       "      <td>-0.0045</td>\n",
       "    </tr>\n",
       "  </tbody>\n",
       "</table>"
      ],
      "text/plain": [
       "<IPython.core.display.HTML object>"
      ]
     },
     "metadata": {},
     "output_type": "display_data"
    },
    {
     "data": {
      "text/markdown": [
       "<sup>(* shows the algorithms we implemented by wrapping around     methods in scikit-surprise python package)</sup>"
      ],
      "text/plain": [
       "<IPython.core.display.Markdown object>"
      ]
     },
     "metadata": {},
     "output_type": "display_data"
    },
    {
     "data": {
      "text/markdown": [
       "**Content filtering**"
      ],
      "text/plain": [
       "<IPython.core.display.Markdown object>"
      ]
     },
     "metadata": {},
     "output_type": "display_data"
    },
    {
     "data": {
      "text/html": [
       "<table border=\"1\" class=\"dataframe\">\n",
       "  <thead>\n",
       "    <tr style=\"text-align: right;\">\n",
       "      <th>model</th>\n",
       "      <th>fitting time (s)</th>\n",
       "      <th>train RMSE</th>\n",
       "      <th>test RMSE</th>\n",
       "      <th>train $R^2$</th>\n",
       "      <th>test $R^2$</th>\n",
       "    </tr>\n",
       "  </thead>\n",
       "  <tbody>\n",
       "    <tr>\n",
       "      <td>Ridge regression</td>\n",
       "      <td>1.1401</td>\n",
       "      <td>1.0049</td>\n",
       "      <td>1.0035</td>\n",
       "      <td>0.3970</td>\n",
       "      <td>0.3955</td>\n",
       "    </tr>\n",
       "    <tr>\n",
       "      <td>Random forest</td>\n",
       "      <td>27.0035</td>\n",
       "      <td>0.9891</td>\n",
       "      <td>0.9909</td>\n",
       "      <td>0.4158</td>\n",
       "      <td>0.4106</td>\n",
       "    </tr>\n",
       "  </tbody>\n",
       "</table>"
      ],
      "text/plain": [
       "<IPython.core.display.HTML object>"
      ]
     },
     "metadata": {},
     "output_type": "display_data"
    },
    {
     "data": {
      "text/markdown": [
       "**Ensemble**"
      ],
      "text/plain": [
       "<IPython.core.display.Markdown object>"
      ]
     },
     "metadata": {},
     "output_type": "display_data"
    },
    {
     "data": {
      "text/html": [
       "<table border=\"1\" class=\"dataframe\">\n",
       "  <thead>\n",
       "    <tr style=\"text-align: right;\">\n",
       "      <th>model</th>\n",
       "      <th>fitting time (s)</th>\n",
       "      <th>train RMSE</th>\n",
       "      <th>test RMSE</th>\n",
       "      <th>train $R^2$</th>\n",
       "      <th>test $R^2$</th>\n",
       "    </tr>\n",
       "  </thead>\n",
       "  <tbody>\n",
       "    <tr>\n",
       "      <td>Ensemble1 (weighted average)</td>\n",
       "      <td>0.0000</td>\n",
       "      <td>0.7721</td>\n",
       "      <td>1.1648</td>\n",
       "      <td>0.6440</td>\n",
       "      <td>0.1856</td>\n",
       "    </tr>\n",
       "    <tr>\n",
       "      <td>Ensemble1 (Ridge regression)</td>\n",
       "      <td>0.0290</td>\n",
       "      <td>0.9701</td>\n",
       "      <td>1.1617</td>\n",
       "      <td>0.4380</td>\n",
       "      <td>0.1898</td>\n",
       "    </tr>\n",
       "    <tr>\n",
       "      <td>Ensemble1 (random forest)</td>\n",
       "      <td>3.2702</td>\n",
       "      <td>0.9747</td>\n",
       "      <td>1.1650</td>\n",
       "      <td>0.4327</td>\n",
       "      <td>0.1853</td>\n",
       "    </tr>\n",
       "    <tr>\n",
       "      <td>Ensemble2 (weighted average)</td>\n",
       "      <td>0.0000</td>\n",
       "      <td>0.8419</td>\n",
       "      <td>1.0529</td>\n",
       "      <td>0.5767</td>\n",
       "      <td>0.3346</td>\n",
       "    </tr>\n",
       "    <tr>\n",
       "      <td>Ensemble2 (Ridge regression)</td>\n",
       "      <td>0.0360</td>\n",
       "      <td>1.0278</td>\n",
       "      <td>0.9876</td>\n",
       "      <td>0.3692</td>\n",
       "      <td>0.4145</td>\n",
       "    </tr>\n",
       "    <tr>\n",
       "      <td>Ensemble2 (random forest)</td>\n",
       "      <td>4.1732</td>\n",
       "      <td>0.9946</td>\n",
       "      <td>0.9957</td>\n",
       "      <td>0.4093</td>\n",
       "      <td>0.4048</td>\n",
       "    </tr>\n",
       "  </tbody>\n",
       "</table>"
      ],
      "text/plain": [
       "<IPython.core.display.HTML object>"
      ]
     },
     "metadata": {},
     "output_type": "display_data"
    },
    {
     "data": {
      "text/markdown": [
       "<sup>(Ensemble1 represents the ensemble of collaborative filtering models;     Ensemble2 represents the ensemble of collaborative filtering and content filtering models)</sup>"
      ],
      "text/plain": [
       "<IPython.core.display.Markdown object>"
      ]
     },
     "metadata": {},
     "output_type": "display_data"
    },
    {
     "data": {
      "text/markdown": [
       "\n",
       "    \n",
       "    "
      ],
      "text/plain": [
       "<IPython.core.display.Markdown object>"
      ]
     },
     "metadata": {},
     "output_type": "display_data"
    },
    {
     "data": {
      "text/markdown": [
       "## Las_Vegas <sup>(1280896 reviews, 20434 restaurants, 429363 users)</sup>"
      ],
      "text/plain": [
       "<IPython.core.display.Markdown object>"
      ]
     },
     "metadata": {},
     "output_type": "display_data"
    },
    {
     "data": {
      "text/markdown": [
       "**Collaborative filtering**"
      ],
      "text/plain": [
       "<IPython.core.display.Markdown object>"
      ]
     },
     "metadata": {},
     "output_type": "display_data"
    },
    {
     "data": {
      "text/html": [
       "<table border=\"1\" class=\"dataframe\">\n",
       "  <thead>\n",
       "    <tr style=\"text-align: right;\">\n",
       "      <th>model</th>\n",
       "      <th>fitting time (s)</th>\n",
       "      <th>train RMSE</th>\n",
       "      <th>test RMSE</th>\n",
       "      <th>train $R^2$</th>\n",
       "      <th>test $R^2$</th>\n",
       "    </tr>\n",
       "  </thead>\n",
       "  <tbody>\n",
       "    <tr>\n",
       "      <td>Mode estimator</td>\n",
       "      <td>0.0000</td>\n",
       "      <td>1.9060</td>\n",
       "      <td>1.9073</td>\n",
       "      <td>-0.7549</td>\n",
       "      <td>-0.7578</td>\n",
       "    </tr>\n",
       "    <tr>\n",
       "      <td>Normal predictor*</td>\n",
       "      <td>5.2523</td>\n",
       "      <td>1.8586</td>\n",
       "      <td>1.8615</td>\n",
       "      <td>-0.6687</td>\n",
       "      <td>-0.6744</td>\n",
       "    </tr>\n",
       "    <tr>\n",
       "      <td>Baseline (mean)</td>\n",
       "      <td>1.1551</td>\n",
       "      <td>0.9990</td>\n",
       "      <td>1.4148</td>\n",
       "      <td>0.5179</td>\n",
       "      <td>0.0329</td>\n",
       "    </tr>\n",
       "    <tr>\n",
       "      <td>Baseline (regression)</td>\n",
       "      <td>8.1045</td>\n",
       "      <td>0.9286</td>\n",
       "      <td>1.2855</td>\n",
       "      <td>0.5835</td>\n",
       "      <td>0.2015</td>\n",
       "    </tr>\n",
       "    <tr>\n",
       "      <td>Baseline (ALS)*</td>\n",
       "      <td>7.3574</td>\n",
       "      <td>1.1880</td>\n",
       "      <td>1.2696</td>\n",
       "      <td>0.3182</td>\n",
       "      <td>0.2211</td>\n",
       "    </tr>\n",
       "    <tr>\n",
       "      <td>SVD-ALS1</td>\n",
       "      <td>1350.0652</td>\n",
       "      <td>0.4210</td>\n",
       "      <td>1.2787</td>\n",
       "      <td>0.9144</td>\n",
       "      <td>0.2099</td>\n",
       "    </tr>\n",
       "    <tr>\n",
       "      <td>SVD-ALS2</td>\n",
       "      <td>1345.8700</td>\n",
       "      <td>0.4218</td>\n",
       "      <td>1.2864</td>\n",
       "      <td>0.9140</td>\n",
       "      <td>0.2004</td>\n",
       "    </tr>\n",
       "    <tr>\n",
       "      <td>SVD-SGD*</td>\n",
       "      <td>69.9980</td>\n",
       "      <td>0.7758</td>\n",
       "      <td>1.2827</td>\n",
       "      <td>0.7093</td>\n",
       "      <td>0.2050</td>\n",
       "    </tr>\n",
       "    <tr>\n",
       "      <td>SVD++-SGD*</td>\n",
       "      <td>336.7173</td>\n",
       "      <td>0.8046</td>\n",
       "      <td>1.3020</td>\n",
       "      <td>0.6873</td>\n",
       "      <td>0.1809</td>\n",
       "    </tr>\n",
       "    <tr>\n",
       "      <td>NMF-SGD*</td>\n",
       "      <td>87.5520</td>\n",
       "      <td>0.4178</td>\n",
       "      <td>1.4916</td>\n",
       "      <td>0.9157</td>\n",
       "      <td>-0.0750</td>\n",
       "    </tr>\n",
       "    <tr>\n",
       "      <td>Slope one*</td>\n",
       "      <td>19.5651</td>\n",
       "      <td>0.4314</td>\n",
       "      <td>1.5076</td>\n",
       "      <td>0.9101</td>\n",
       "      <td>-0.0983</td>\n",
       "    </tr>\n",
       "    <tr>\n",
       "      <td>Co-clustering*</td>\n",
       "      <td>79.0145</td>\n",
       "      <td>0.8555</td>\n",
       "      <td>1.4343</td>\n",
       "      <td>0.6464</td>\n",
       "      <td>0.0060</td>\n",
       "    </tr>\n",
       "  </tbody>\n",
       "</table>"
      ],
      "text/plain": [
       "<IPython.core.display.HTML object>"
      ]
     },
     "metadata": {},
     "output_type": "display_data"
    },
    {
     "data": {
      "text/markdown": [
       "<sup>(* shows the algorithms we implemented by wrapping around     methods in scikit-surprise python package)</sup>"
      ],
      "text/plain": [
       "<IPython.core.display.Markdown object>"
      ]
     },
     "metadata": {},
     "output_type": "display_data"
    },
    {
     "data": {
      "text/markdown": [
       "**Content filtering**"
      ],
      "text/plain": [
       "<IPython.core.display.Markdown object>"
      ]
     },
     "metadata": {},
     "output_type": "display_data"
    },
    {
     "data": {
      "text/html": [
       "<table border=\"1\" class=\"dataframe\">\n",
       "  <thead>\n",
       "    <tr style=\"text-align: right;\">\n",
       "      <th>model</th>\n",
       "      <th>fitting time (s)</th>\n",
       "      <th>train RMSE</th>\n",
       "      <th>test RMSE</th>\n",
       "      <th>train $R^2$</th>\n",
       "      <th>test $R^2$</th>\n",
       "    </tr>\n",
       "  </thead>\n",
       "  <tbody>\n",
       "    <tr>\n",
       "      <td>Ridge regression</td>\n",
       "      <td>5.0093</td>\n",
       "      <td>1.1216</td>\n",
       "      <td>1.1226</td>\n",
       "      <td>0.3923</td>\n",
       "      <td>0.3911</td>\n",
       "    </tr>\n",
       "    <tr>\n",
       "      <td>Random forest</td>\n",
       "      <td>154.2278</td>\n",
       "      <td>1.1008</td>\n",
       "      <td>1.1029</td>\n",
       "      <td>0.4146</td>\n",
       "      <td>0.4122</td>\n",
       "    </tr>\n",
       "  </tbody>\n",
       "</table>"
      ],
      "text/plain": [
       "<IPython.core.display.HTML object>"
      ]
     },
     "metadata": {},
     "output_type": "display_data"
    },
    {
     "data": {
      "text/markdown": [
       "**Ensemble**"
      ],
      "text/plain": [
       "<IPython.core.display.Markdown object>"
      ]
     },
     "metadata": {},
     "output_type": "display_data"
    },
    {
     "data": {
      "text/html": [
       "<table border=\"1\" class=\"dataframe\">\n",
       "  <thead>\n",
       "    <tr style=\"text-align: right;\">\n",
       "      <th>model</th>\n",
       "      <th>fitting time (s)</th>\n",
       "      <th>train RMSE</th>\n",
       "      <th>test RMSE</th>\n",
       "      <th>train $R^2$</th>\n",
       "      <th>test $R^2$</th>\n",
       "    </tr>\n",
       "  </thead>\n",
       "  <tbody>\n",
       "    <tr>\n",
       "      <td>Ensemble1 (weighted average)</td>\n",
       "      <td>0.0000</td>\n",
       "      <td>0.7228</td>\n",
       "      <td>1.2640</td>\n",
       "      <td>0.7476</td>\n",
       "      <td>0.2280</td>\n",
       "    </tr>\n",
       "    <tr>\n",
       "      <td>Ensemble1 (Ridge regression)</td>\n",
       "      <td>0.1190</td>\n",
       "      <td>0.9909</td>\n",
       "      <td>1.2605</td>\n",
       "      <td>0.5257</td>\n",
       "      <td>0.2323</td>\n",
       "    </tr>\n",
       "    <tr>\n",
       "      <td>Ensemble1 (random forest)</td>\n",
       "      <td>13.3968</td>\n",
       "      <td>1.0422</td>\n",
       "      <td>1.2631</td>\n",
       "      <td>0.4753</td>\n",
       "      <td>0.2290</td>\n",
       "    </tr>\n",
       "    <tr>\n",
       "      <td>Ensemble2 (weighted average)</td>\n",
       "      <td>0.0000</td>\n",
       "      <td>0.8461</td>\n",
       "      <td>1.1686</td>\n",
       "      <td>0.6542</td>\n",
       "      <td>0.3402</td>\n",
       "    </tr>\n",
       "    <tr>\n",
       "      <td>Ensemble2 (Ridge regression)</td>\n",
       "      <td>0.1470</td>\n",
       "      <td>1.1212</td>\n",
       "      <td>1.1013</td>\n",
       "      <td>0.3928</td>\n",
       "      <td>0.4139</td>\n",
       "    </tr>\n",
       "    <tr>\n",
       "      <td>Ensemble2 (random forest)</td>\n",
       "      <td>16.1289</td>\n",
       "      <td>1.1063</td>\n",
       "      <td>1.1084</td>\n",
       "      <td>0.4088</td>\n",
       "      <td>0.4064</td>\n",
       "    </tr>\n",
       "  </tbody>\n",
       "</table>"
      ],
      "text/plain": [
       "<IPython.core.display.HTML object>"
      ]
     },
     "metadata": {},
     "output_type": "display_data"
    },
    {
     "data": {
      "text/markdown": [
       "<sup>(Ensemble1 represents the ensemble of collaborative filtering models;     Ensemble2 represents the ensemble of collaborative filtering and content filtering models)</sup>"
      ],
      "text/plain": [
       "<IPython.core.display.Markdown object>"
      ]
     },
     "metadata": {},
     "output_type": "display_data"
    },
    {
     "data": {
      "text/markdown": [
       "\n",
       "    \n",
       "    "
      ],
      "text/plain": [
       "<IPython.core.display.Markdown object>"
      ]
     },
     "metadata": {},
     "output_type": "display_data"
    },
    {
     "data": {
      "text/markdown": [
       "## Full <sup>(4166778 reviews, 131025 restaurants, 1117891 users)</sup>"
      ],
      "text/plain": [
       "<IPython.core.display.Markdown object>"
      ]
     },
     "metadata": {},
     "output_type": "display_data"
    },
    {
     "data": {
      "text/markdown": [
       "**Collaborative filtering**"
      ],
      "text/plain": [
       "<IPython.core.display.Markdown object>"
      ]
     },
     "metadata": {},
     "output_type": "display_data"
    },
    {
     "data": {
      "text/html": [
       "<table border=\"1\" class=\"dataframe\">\n",
       "  <thead>\n",
       "    <tr style=\"text-align: right;\">\n",
       "      <th>model</th>\n",
       "      <th>fitting time (s)</th>\n",
       "      <th>train RMSE</th>\n",
       "      <th>test RMSE</th>\n",
       "      <th>train $R^2$</th>\n",
       "      <th>test $R^2$</th>\n",
       "    </tr>\n",
       "  </thead>\n",
       "  <tbody>\n",
       "    <tr>\n",
       "      <td>Mode estimator</td>\n",
       "      <td>0.0000</td>\n",
       "      <td>1.8974</td>\n",
       "      <td>1.8985</td>\n",
       "      <td>-0.7803</td>\n",
       "      <td>-0.7799</td>\n",
       "    </tr>\n",
       "    <tr>\n",
       "      <td>Normal predictor*</td>\n",
       "      <td>16.9860</td>\n",
       "      <td>1.8400</td>\n",
       "      <td>1.8404</td>\n",
       "      <td>-0.6741</td>\n",
       "      <td>-0.6725</td>\n",
       "    </tr>\n",
       "    <tr>\n",
       "      <td>Baseline (mean)</td>\n",
       "      <td>4.2512</td>\n",
       "      <td>1.0178</td>\n",
       "      <td>1.4063</td>\n",
       "      <td>0.4878</td>\n",
       "      <td>0.0234</td>\n",
       "    </tr>\n",
       "    <tr>\n",
       "      <td>Baseline (regression)</td>\n",
       "      <td>32.7739</td>\n",
       "      <td>0.9380</td>\n",
       "      <td>1.2755</td>\n",
       "      <td>0.5649</td>\n",
       "      <td>0.1966</td>\n",
       "    </tr>\n",
       "    <tr>\n",
       "      <td>Baseline (ALS)*</td>\n",
       "      <td>25.2794</td>\n",
       "      <td>1.1754</td>\n",
       "      <td>1.2659</td>\n",
       "      <td>0.3169</td>\n",
       "      <td>0.2086</td>\n",
       "    </tr>\n",
       "    <tr>\n",
       "      <td>SVD-ALS1</td>\n",
       "      <td>4324.7944</td>\n",
       "      <td>0.5255</td>\n",
       "      <td>1.2685</td>\n",
       "      <td>0.8634</td>\n",
       "      <td>0.2054</td>\n",
       "    </tr>\n",
       "    <tr>\n",
       "      <td>SVD-ALS2</td>\n",
       "      <td>4361.1094</td>\n",
       "      <td>0.5267</td>\n",
       "      <td>1.2758</td>\n",
       "      <td>0.8628</td>\n",
       "      <td>0.1963</td>\n",
       "    </tr>\n",
       "    <tr>\n",
       "      <td>SVD-SGD*</td>\n",
       "      <td>248.9762</td>\n",
       "      <td>0.8312</td>\n",
       "      <td>1.2721</td>\n",
       "      <td>0.6584</td>\n",
       "      <td>0.2008</td>\n",
       "    </tr>\n",
       "    <tr>\n",
       "      <td>SVD++-SGD*</td>\n",
       "      <td>1463.7867</td>\n",
       "      <td>0.8713</td>\n",
       "      <td>1.2784</td>\n",
       "      <td>0.6246</td>\n",
       "      <td>0.1930</td>\n",
       "    </tr>\n",
       "    <tr>\n",
       "      <td>NMF-SGD*</td>\n",
       "      <td>330.5729</td>\n",
       "      <td>0.4277</td>\n",
       "      <td>1.4656</td>\n",
       "      <td>0.9095</td>\n",
       "      <td>-0.0607</td>\n",
       "    </tr>\n",
       "  </tbody>\n",
       "</table>"
      ],
      "text/plain": [
       "<IPython.core.display.HTML object>"
      ]
     },
     "metadata": {},
     "output_type": "display_data"
    },
    {
     "data": {
      "text/markdown": [
       "<sup>(* shows the algorithms we implemented by wrapping around     methods in scikit-surprise python package)</sup>"
      ],
      "text/plain": [
       "<IPython.core.display.Markdown object>"
      ]
     },
     "metadata": {},
     "output_type": "display_data"
    },
    {
     "data": {
      "text/markdown": [
       "**Content filtering**"
      ],
      "text/plain": [
       "<IPython.core.display.Markdown object>"
      ]
     },
     "metadata": {},
     "output_type": "display_data"
    },
    {
     "data": {
      "text/html": [
       "<table border=\"1\" class=\"dataframe\">\n",
       "  <thead>\n",
       "    <tr style=\"text-align: right;\">\n",
       "      <th>model</th>\n",
       "      <th>fitting time (s)</th>\n",
       "      <th>train RMSE</th>\n",
       "      <th>test RMSE</th>\n",
       "      <th>train $R^2$</th>\n",
       "      <th>test $R^2$</th>\n",
       "    </tr>\n",
       "  </thead>\n",
       "  <tbody>\n",
       "    <tr>\n",
       "      <td>Ridge regression</td>\n",
       "      <td>17.1610</td>\n",
       "      <td>1.0857</td>\n",
       "      <td>1.0869</td>\n",
       "      <td>0.4171</td>\n",
       "      <td>0.4167</td>\n",
       "    </tr>\n",
       "    <tr>\n",
       "      <td>Random forest</td>\n",
       "      <td>663.2849</td>\n",
       "      <td>1.0639</td>\n",
       "      <td>1.0653</td>\n",
       "      <td>0.4403</td>\n",
       "      <td>0.4396</td>\n",
       "    </tr>\n",
       "  </tbody>\n",
       "</table>"
      ],
      "text/plain": [
       "<IPython.core.display.HTML object>"
      ]
     },
     "metadata": {},
     "output_type": "display_data"
    },
    {
     "data": {
      "text/markdown": [
       "**Ensemble**"
      ],
      "text/plain": [
       "<IPython.core.display.Markdown object>"
      ]
     },
     "metadata": {},
     "output_type": "display_data"
    },
    {
     "data": {
      "text/html": [
       "<table border=\"1\" class=\"dataframe\">\n",
       "  <thead>\n",
       "    <tr style=\"text-align: right;\">\n",
       "      <th>model</th>\n",
       "      <th>fitting time (s)</th>\n",
       "      <th>train RMSE</th>\n",
       "      <th>test RMSE</th>\n",
       "      <th>train $R^2$</th>\n",
       "      <th>test $R^2$</th>\n",
       "    </tr>\n",
       "  </thead>\n",
       "  <tbody>\n",
       "    <tr>\n",
       "      <td>Ensemble1 (weighted average)</td>\n",
       "      <td>0.0000</td>\n",
       "      <td>0.7803</td>\n",
       "      <td>1.2557</td>\n",
       "      <td>0.6990</td>\n",
       "      <td>0.2214</td>\n",
       "    </tr>\n",
       "    <tr>\n",
       "      <td>Ensemble1 (Ridge regression)</td>\n",
       "      <td>0.4240</td>\n",
       "      <td>1.0004</td>\n",
       "      <td>1.2523</td>\n",
       "      <td>0.5051</td>\n",
       "      <td>0.2256</td>\n",
       "    </tr>\n",
       "    <tr>\n",
       "      <td>Ensemble1 (random forest)</td>\n",
       "      <td>56.5742</td>\n",
       "      <td>1.0303</td>\n",
       "      <td>1.2581</td>\n",
       "      <td>0.4751</td>\n",
       "      <td>0.2184</td>\n",
       "    </tr>\n",
       "    <tr>\n",
       "      <td>Ensemble2 (weighted average)</td>\n",
       "      <td>0.0000</td>\n",
       "      <td>0.8688</td>\n",
       "      <td>1.1421</td>\n",
       "      <td>0.6268</td>\n",
       "      <td>0.3558</td>\n",
       "    </tr>\n",
       "    <tr>\n",
       "      <td>Ensemble2 (Ridge regression)</td>\n",
       "      <td>0.5450</td>\n",
       "      <td>1.1033</td>\n",
       "      <td>1.0617</td>\n",
       "      <td>0.3980</td>\n",
       "      <td>0.4434</td>\n",
       "    </tr>\n",
       "    <tr>\n",
       "      <td>Ensemble2 (random forest)</td>\n",
       "      <td>68.1969</td>\n",
       "      <td>1.0687</td>\n",
       "      <td>1.0702</td>\n",
       "      <td>0.4352</td>\n",
       "      <td>0.4344</td>\n",
       "    </tr>\n",
       "  </tbody>\n",
       "</table>"
      ],
      "text/plain": [
       "<IPython.core.display.HTML object>"
      ]
     },
     "metadata": {},
     "output_type": "display_data"
    },
    {
     "data": {
      "text/markdown": [
       "<sup>(Ensemble1 represents the ensemble of collaborative filtering models;     Ensemble2 represents the ensemble of collaborative filtering and content filtering models)</sup>"
      ],
      "text/plain": [
       "<IPython.core.display.Markdown object>"
      ]
     },
     "metadata": {},
     "output_type": "display_data"
    },
    {
     "data": {
      "text/markdown": [
       "\n",
       "    \n",
       "    "
      ],
      "text/plain": [
       "<IPython.core.display.Markdown object>"
      ]
     },
     "metadata": {},
     "output_type": "display_data"
    }
   ],
   "source": [
    "cities = ['Champaign', 'Cleveland', 'Pittsburgh', 'Toronto', 'Las_Vegas', 'Full']\n",
    "\n",
    "for city in cities:\n",
    "    data_dir = 'data/{}/'.format(city)\n",
    "    model_names = IO(data_dir + 'results/model_names.pkl').read_pickle()\n",
    "    results = IO(data_dir + 'results/results.pkl').read_pickle()\n",
    "    is_successful = IO(data_dir + 'results/is_successful.pkl').read_pickle()\n",
    "    sizes = IO(data_dir + 'sizes.pkl').read_pickle()\n",
    "    \n",
    "    display(Markdown('## {} <sup>({} reviews, {} restaurants, {} users)</sup>'.\\\n",
    "                 format(city, sizes[0], sizes[1], sizes[2])))\n",
    "    display(Markdown('**Collaborative filtering**'))\n",
    "    show_summaries(model_names, results, is_successful)\n",
    "    display(Markdown('<sup>(* shows the algorithms we implemented by wrapping around \\\n",
    "    methods in scikit-surprise python package)</sup>'))\n",
    "    \n",
    "    model_names = IO(data_dir + 'results05/model_names.pkl').read_pickle()\n",
    "    results = IO(data_dir + 'results05/results.pkl').read_pickle()\n",
    "    is_successful = IO(data_dir + 'results05/is_successful.pkl').read_pickle()\n",
    "    #sizes = IO(data_dir + 'sizes.pkl').read_pickle()\n",
    "\n",
    "    #display(Markdown('## {} <sup>({} reviews, {} restaurants, {} users)</sup>'.\\\n",
    "                     #format(city, sizes[0], sizes[1], sizes[2])))\n",
    "    display(Markdown('**Content filtering**'))\n",
    "    show_summaries(model_names, results, is_successful)\n",
    "    \n",
    "    model_names = IO(data_dir + 'results06/model_names.pkl').read_pickle()\n",
    "    results = IO(data_dir + 'results06/results.pkl').read_pickle()\n",
    "    is_successful = IO(data_dir + 'results06/is_successful.pkl').read_pickle()\n",
    "    #sizes = IO(data_dir + 'sizes.pkl').read_pickle()\n",
    "\n",
    "    #display(Markdown('## {} <sup>({} reviews, {} restaurants, {} users)</sup>'.\\\n",
    "                     #format(city, sizes[0], sizes[1], sizes[2])))\n",
    "    display(Markdown('**Ensemble**'))\n",
    "    show_summaries(model_names, results, is_successful)\n",
    "    display(Markdown('<sup>(Ensemble1 represents the ensemble of collaborative filtering models; \\\n",
    "    Ensemble2 represents the ensemble of collaborative filtering and content filtering models)</sup>'))\n",
    "        \n",
    "    display(Markdown('''\n",
    "    \n",
    "    '''))"
   ]
  },
  {
   "cell_type": "code",
   "execution_count": null,
   "metadata": {
    "collapsed": true
   },
   "outputs": [],
   "source": []
  }
 ],
 "metadata": {
  "kernelspec": {
   "display_name": "Python 3",
   "language": "python",
   "name": "python3"
  },
  "language_info": {
   "codemirror_mode": {
    "name": "ipython",
    "version": 3
   },
   "file_extension": ".py",
   "mimetype": "text/x-python",
   "name": "python",
   "nbconvert_exporter": "python",
   "pygments_lexer": "ipython3",
   "version": "3.6.3"
  }
 },
 "nbformat": 4,
 "nbformat_minor": 2
}
