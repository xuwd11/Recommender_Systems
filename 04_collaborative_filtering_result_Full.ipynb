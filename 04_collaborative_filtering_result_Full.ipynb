{
 "cells": [
  {
   "cell_type": "code",
   "execution_count": 1,
   "metadata": {
    "collapsed": true
   },
   "outputs": [],
   "source": [
    "import sys\n",
    "import traceback\n",
    "import pandas as pd\n",
    "import numpy as np\n",
    "import time\n",
    "from copy import deepcopy\n",
    "\n",
    "from sklearn.base import BaseEstimator\n",
    "from sklearn.model_selection import train_test_split\n",
    "from sklearn.model_selection import GridSearchCV\n",
    "from sklearn.metrics import r2_score\n",
    "from sklearn.metrics import mean_squared_error\n",
    "from sklearn.metrics import accuracy_score\n",
    "from sklearn.metrics import confusion_matrix\n",
    "\n",
    "from scipy import sparse\n",
    "\n",
    "import pickle\n",
    "\n",
    "from IPython.display import display\n",
    "\n",
    "import matplotlib\n",
    "import matplotlib.pyplot as plt\n",
    "\n",
    "import seaborn as sns\n",
    "pd.set_option('display.width', 15000)\n",
    "pd.set_option('display.max_columns', 100)\n",
    "sns.set_style(\"whitegrid\", {'axes.grid' : False})\n",
    "sns.set_context('poster')\n",
    "%matplotlib inline"
   ]
  },
  {
   "cell_type": "code",
   "execution_count": 2,
   "metadata": {
    "collapsed": true
   },
   "outputs": [],
   "source": [
    "from surprise import Dataset, Reader\n",
    "from surprise import NormalPredictor, BaselineOnly, SVD, SVDpp, NMF, \\\n",
    "SlopeOne, CoClustering, KNNBasic, KNNWithMeans, KNNBaseline"
   ]
  },
  {
   "cell_type": "code",
   "execution_count": 3,
   "metadata": {
    "collapsed": true
   },
   "outputs": [],
   "source": [
    "from recommender import plot_cm, print_results, IO\n",
    "from recommender import ModeClassifier, BaselineMean, BaselineRegression, ALS1, ALS2, RS_surprise"
   ]
  },
  {
   "cell_type": "code",
   "execution_count": 4,
   "metadata": {},
   "outputs": [
    {
     "name": "stdout",
     "output_type": "stream",
     "text": [
      "Wall time: 8.05 s\n"
     ]
    }
   ],
   "source": [
    "%%time\n",
    "# Load data\n",
    "\n",
    "fig_dir = 'figs/modeling/Full/'\n",
    "\n",
    "data_dir = 'data/Full/'\n",
    "dfb = pd.read_pickle(data_dir + 'business.pkl')\n",
    "dfr = pd.read_pickle(data_dir + 'review.pkl')\n",
    "dfu = pd.read_pickle(data_dir + 'user.pkl')\n",
    "datar = pd.read_pickle(data_dir + 'data_review.pkl')"
   ]
  },
  {
   "cell_type": "code",
   "execution_count": 5,
   "metadata": {},
   "outputs": [
    {
     "name": "stdout",
     "output_type": "stream",
     "text": [
      "(131025, 93)\n",
      "(1117891, 22)\n",
      "(4166778, 3)\n"
     ]
    },
    {
     "data": {
      "text/html": [
       "<div>\n",
       "<style>\n",
       "    .dataframe thead tr:only-child th {\n",
       "        text-align: right;\n",
       "    }\n",
       "\n",
       "    .dataframe thead th {\n",
       "        text-align: left;\n",
       "    }\n",
       "\n",
       "    .dataframe tbody tr th {\n",
       "        vertical-align: top;\n",
       "    }\n",
       "</style>\n",
       "<table border=\"1\" class=\"dataframe\">\n",
       "  <thead>\n",
       "    <tr style=\"text-align: right;\">\n",
       "      <th></th>\n",
       "      <th>user_id</th>\n",
       "      <th>business_id</th>\n",
       "      <th>stars</th>\n",
       "    </tr>\n",
       "  </thead>\n",
       "  <tbody>\n",
       "    <tr>\n",
       "      <th>0</th>\n",
       "      <td>0</td>\n",
       "      <td>0</td>\n",
       "      <td>2</td>\n",
       "    </tr>\n",
       "    <tr>\n",
       "      <th>1</th>\n",
       "      <td>1</td>\n",
       "      <td>0</td>\n",
       "      <td>2</td>\n",
       "    </tr>\n",
       "    <tr>\n",
       "      <th>2</th>\n",
       "      <td>2</td>\n",
       "      <td>0</td>\n",
       "      <td>2</td>\n",
       "    </tr>\n",
       "    <tr>\n",
       "      <th>3</th>\n",
       "      <td>3</td>\n",
       "      <td>0</td>\n",
       "      <td>3</td>\n",
       "    </tr>\n",
       "    <tr>\n",
       "      <th>4</th>\n",
       "      <td>4</td>\n",
       "      <td>0</td>\n",
       "      <td>2</td>\n",
       "    </tr>\n",
       "  </tbody>\n",
       "</table>\n",
       "</div>"
      ],
      "text/plain": [
       "   user_id  business_id  stars\n",
       "0        0            0      2\n",
       "1        1            0      2\n",
       "2        2            0      2\n",
       "3        3            0      3\n",
       "4        4            0      2"
      ]
     },
     "execution_count": 5,
     "metadata": {},
     "output_type": "execute_result"
    }
   ],
   "source": [
    "print(dfb.shape)\n",
    "print(dfu.shape)\n",
    "print(datar.shape)\n",
    "\n",
    "del dfb\n",
    "del dfu\n",
    "del dfr\n",
    "\n",
    "datar.head()"
   ]
  },
  {
   "cell_type": "code",
   "execution_count": 6,
   "metadata": {
    "collapsed": true
   },
   "outputs": [],
   "source": [
    "# Split the dataset into a training set a test set\n",
    "\n",
    "X_train, X_test, y_train, y_test = train_test_split(datar[['user_id', 'business_id']].values, datar['stars'].values, \\\n",
    "                                                   test_size=0.4, random_state=0)"
   ]
  },
  {
   "cell_type": "code",
   "execution_count": 7,
   "metadata": {
    "collapsed": true
   },
   "outputs": [],
   "source": [
    "models = [ModeClassifier(), RS_surprise(NormalPredictor()), BaselineMean(), BaselineRegression(), \\\n",
    "          RS_surprise(BaselineOnly()), RS_surprise(KNNBasic()), RS_surprise(KNNWithMeans()), RS_surprise(KNNBaseline()), \\\n",
    "          ALS1(), ALS2(), RS_surprise(SVD()), RS_surprise(SVDpp()), RS_surprise(NMF()), RS_surprise(SlopeOne()), \\\n",
    "          RS_surprise(CoClustering())]\n",
    "model_names = ['Mode estimator', 'Normal predictor*', 'Baseline (mean)', 'Baseline (regression)', \\\n",
    "              'Baseline (ALS)*', 'KNN (basic)*', 'KNN (with means)*', 'KNN (baseline)*', \\\n",
    "              'SVD-ALS1', 'SVD-ALS2', 'SVD-SGD*', 'SVD++-SGD*', 'NMF-SGD*', 'Slope one*', 'Co-clustering*']\n",
    "test = [True, True, True, True, \\\n",
    "       True, False, False, False, \\\n",
    "       True, True, True, True, True, True, True]\n",
    "fignames = [fig_dir + str(i) + 'cm.png' for i in range(len(models))]"
   ]
  },
  {
   "cell_type": "code",
   "execution_count": null,
   "metadata": {
    "scrolled": false
   },
   "outputs": [
    {
     "name": "stdout",
     "output_type": "stream",
     "text": [
      "Mode estimator...\n",
      "Mode estimator successful.\n",
      "\n",
      "Normal predictor*...\n",
      "Normal predictor* successful.\n",
      "\n",
      "Baseline (mean)...\n",
      "Baseline (mean) successful.\n",
      "\n",
      "Baseline (regression)...\n",
      "Baseline (regression) successful.\n",
      "\n",
      "Baseline (ALS)*...\n",
      "Estimating biases using als...\n",
      "Baseline (ALS)* successful.\n",
      "\n",
      "KNN (basic)*...\n",
      "Estimator not tested\n",
      "\n",
      "KNN (with means)*...\n",
      "Estimator not tested\n",
      "\n",
      "KNN (baseline)*...\n",
      "Estimator not tested\n",
      "\n",
      "SVD-ALS1...\n"
     ]
    }
   ],
   "source": [
    "%%time\n",
    "\n",
    "estimators = []\n",
    "is_successful = []\n",
    "\n",
    "for i, model in enumerate(models):\n",
    "    try:\n",
    "        print(model_names[i] + '...')\n",
    "        if not test[i]:\n",
    "            print('Estimator not tested')\n",
    "            estimators.append(model)\n",
    "            is_successful.append(False)\n",
    "            print()\n",
    "            continue\n",
    "        model.fit(X_train, y_train)\n",
    "        estimators.append(model)\n",
    "        print(model_names[i] + ' successful.')\n",
    "        is_successful.append(True)\n",
    "        print()\n",
    "    except:\n",
    "        traceback.print_exc()\n",
    "        print(model_names[i] + ' failed.')\n",
    "        is_successful.append(False)\n",
    "        print()\n",
    "\n",
    "try:\n",
    "    IO(data_dir + 'results/estimators.pkl').to_pickle(estimators)\n",
    "    print('Saving to pickle successful.')\n",
    "except:\n",
    "    traceback.print_exc()\n",
    "    print('Saving to pickle failed')\n",
    "\n",
    "IO(data_dir + 'results/is_successful.pkl').to_pickle(is_successful)"
   ]
  },
  {
   "cell_type": "code",
   "execution_count": null,
   "metadata": {
    "scrolled": false
   },
   "outputs": [],
   "source": [
    "%%time\n",
    "\n",
    "estimators = IO(data_dir + 'results/estimators.pkl').read_pickle()\n",
    "is_successful = IO(data_dir + 'results/is_successful.pkl').read_pickle()\n",
    "\n",
    "for i in range(len(estimators)):\n",
    "    if is_successful[i]:\n",
    "        print_results(estimators[i], model_names[i], X_train=X_train, y_train=y_train, X_test=X_test, y_test=y_test, \\\n",
    "                      figname=fignames[i])\n",
    "\n",
    "del estimators"
   ]
  },
  {
   "cell_type": "code",
   "execution_count": null,
   "metadata": {
    "collapsed": true
   },
   "outputs": [],
   "source": []
  }
 ],
 "metadata": {
  "kernelspec": {
   "display_name": "Python 3",
   "language": "python",
   "name": "python3"
  },
  "language_info": {
   "codemirror_mode": {
    "name": "ipython",
    "version": 3
   },
   "file_extension": ".py",
   "mimetype": "text/x-python",
   "name": "python",
   "nbconvert_exporter": "python",
   "pygments_lexer": "ipython3",
   "version": "3.6.3"
  }
 },
 "nbformat": 4,
 "nbformat_minor": 2
}
