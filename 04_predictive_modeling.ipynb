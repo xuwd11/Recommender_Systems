{
 "cells": [
  {
   "cell_type": "code",
   "execution_count": 2,
   "metadata": {
    "collapsed": true
   },
   "outputs": [],
   "source": [
    "import pandas as pd\n",
    "import numpy as np\n",
    "from copy import deepcopy\n",
    "\n",
    "from sklearn.base import BaseEstimator\n",
    "from sklearn.model_selection import train_test_split\n",
    "from sklearn.metrics import r2_score\n",
    "from sklearn.metrics import accuracy_score\n",
    "from sklearn.metrics import confusion_matrix\n",
    "\n",
    "from IPython.display import display\n",
    "\n",
    "import matplotlib\n",
    "import matplotlib.pyplot as plt\n",
    "\n",
    "\n",
    "import seaborn as sns\n",
    "pd.set_option('display.width', 15000)\n",
    "pd.set_option('display.max_columns', 100)\n",
    "sns.set_style(\"whitegrid\", {'axes.grid' : False})\n",
    "sns.set_context('poster')\n",
    "%matplotlib inline"
   ]
  },
  {
   "cell_type": "code",
   "execution_count": 3,
   "metadata": {
    "collapsed": true
   },
   "outputs": [],
   "source": [
    "figsize = (7.5, 6)"
   ]
  },
  {
   "cell_type": "code",
   "execution_count": 4,
   "metadata": {
    "collapsed": true
   },
   "outputs": [],
   "source": [
    "# Load data\n",
    "\n",
    "data_dir = 'data/Champaign/'\n",
    "dfb = pd.read_csv(data_dir + 'business.csv', encoding='latin-1')\n",
    "dfr = pd.read_csv(data_dir + 'review.csv', encoding='latin-1')\n",
    "dfu = pd.read_csv(data_dir + 'user.csv', encoding='latin-1')\n",
    "datar = pd.read_csv(data_dir + 'data_review.csv', encoding='latin-1')"
   ]
  },
  {
   "cell_type": "code",
   "execution_count": 5,
   "metadata": {},
   "outputs": [
    {
     "name": "stdout",
     "output_type": "stream",
     "text": [
      "(24088, 3)\n"
     ]
    },
    {
     "data": {
      "text/html": [
       "<div>\n",
       "<style>\n",
       "    .dataframe thead tr:only-child th {\n",
       "        text-align: right;\n",
       "    }\n",
       "\n",
       "    .dataframe thead th {\n",
       "        text-align: left;\n",
       "    }\n",
       "\n",
       "    .dataframe tbody tr th {\n",
       "        vertical-align: top;\n",
       "    }\n",
       "</style>\n",
       "<table border=\"1\" class=\"dataframe\">\n",
       "  <thead>\n",
       "    <tr style=\"text-align: right;\">\n",
       "      <th></th>\n",
       "      <th>user_id</th>\n",
       "      <th>business_id</th>\n",
       "      <th>stars</th>\n",
       "    </tr>\n",
       "  </thead>\n",
       "  <tbody>\n",
       "    <tr>\n",
       "      <th>0</th>\n",
       "      <td>94431</td>\n",
       "      <td>56</td>\n",
       "      <td>2</td>\n",
       "    </tr>\n",
       "    <tr>\n",
       "      <th>1</th>\n",
       "      <td>397042</td>\n",
       "      <td>56</td>\n",
       "      <td>1</td>\n",
       "    </tr>\n",
       "    <tr>\n",
       "      <th>2</th>\n",
       "      <td>259145</td>\n",
       "      <td>56</td>\n",
       "      <td>3</td>\n",
       "    </tr>\n",
       "    <tr>\n",
       "      <th>3</th>\n",
       "      <td>412466</td>\n",
       "      <td>56</td>\n",
       "      <td>1</td>\n",
       "    </tr>\n",
       "    <tr>\n",
       "      <th>4</th>\n",
       "      <td>84515</td>\n",
       "      <td>57</td>\n",
       "      <td>4</td>\n",
       "    </tr>\n",
       "  </tbody>\n",
       "</table>\n",
       "</div>"
      ],
      "text/plain": [
       "   user_id  business_id  stars\n",
       "0    94431           56      2\n",
       "1   397042           56      1\n",
       "2   259145           56      3\n",
       "3   412466           56      1\n",
       "4    84515           57      4"
      ]
     },
     "execution_count": 5,
     "metadata": {},
     "output_type": "execute_result"
    }
   ],
   "source": [
    "print(datar.shape)\n",
    "datar.head()"
   ]
  },
  {
   "cell_type": "code",
   "execution_count": 6,
   "metadata": {
    "collapsed": true
   },
   "outputs": [],
   "source": [
    "# Split the dataset into a training set a test set\n",
    "\n",
    "X_train, X_test, y_train, y_test = train_test_split(datar[['user_id', 'business_id']].values, datar['stars'].values, \\\n",
    "                                                   test_size=0.5, random_state=30)"
   ]
  },
  {
   "cell_type": "code",
   "execution_count": 7,
   "metadata": {
    "collapsed": true
   },
   "outputs": [],
   "source": [
    "def norm_cm(cm):\n",
    "    cm = deepcopy(cm).astype(float)\n",
    "    for i in range(len(cm)):\n",
    "        cm[i, :] = cm[i, :] / np.sum(cm[i, :])\n",
    "    return cm  \n",
    "\n",
    "def plot_cm(cm, title='', file_name=None):\n",
    "    \n",
    "    # Reference:\n",
    "    # https://github.com/kevin11h/YelpDatasetChallengeDataScienceAndMachineLearningUCSD\n",
    "    \n",
    "    cm = norm_cm(cm)\n",
    "    c = plt.pcolor(cm, edgecolors='k', linewidths=4, cmap='jet', vmin=0, vmax=1)\n",
    "    plt.title(title)\n",
    "    plt.colorbar()\n",
    "    plt.ylabel('Actual target label')\n",
    "    plt.xlabel('Predicted target label')\n",
    "    plt.xticks(0.5 + np.arange(5), np.arange(1,6))\n",
    "    plt.yticks(0.5 + np.arange(5), np.arange(1,6))\n",
    "    \n",
    "    def show_values(pc, fmt=\"%.2f\", **kw):\n",
    "        pc.update_scalarmappable()\n",
    "        for p, value in zip(pc.get_paths(), pc.get_array()):\n",
    "            x, y = p.vertices[:-2, :].mean(0)\n",
    "            if value >= 0.3:\n",
    "                color = (0.0, 0.0, 0.0)\n",
    "            else:\n",
    "                color = (1.0, 1.0, 1.0)\n",
    "            plt.text(x, y, fmt % value, ha=\"center\", va=\"center\", color=color, **kw)\n",
    "    \n",
    "    show_values(c)\n",
    "    \n",
    "    if file_name is not None:\n",
    "        plt.savefig(file_name, bbox_inches='tight')\n"
   ]
  },
  {
   "cell_type": "markdown",
   "metadata": {},
   "source": [
    "### Baseline model 1: estimating biases with sample averages"
   ]
  },
  {
   "cell_type": "code",
   "execution_count": 8,
   "metadata": {
    "collapsed": true
   },
   "outputs": [],
   "source": [
    "class BaselineMean(BaseEstimator):\n",
    "    def __init__(self):\n",
    "        self.fitted = False\n",
    "    \n",
    "    def _fit_id2index(self, X):\n",
    "        self._user_id_array = np.unique(X[:, 0])\n",
    "        self._user_id_dict = {self._user_id_array[i]:i for i in range(len(self._user_id_array))}\n",
    "        self._bus_id_array = np.unique(X[:, 1])\n",
    "        self._bus_id_dict = {self._bus_id_array[i]:i for i in range(len(self._bus_id_array))}\n",
    "        return self\n",
    "        \n",
    "    def _transform_id2index(self, X):\n",
    "        X = deepcopy(X)\n",
    "        X[:, 0] = np.array([self._user_id_dict.get(x, -1) for x in X[:, 0]])\n",
    "        X[:, 1] = np.array([self._bus_id_dict.get(x, -1) for x in X[:, 1]])\n",
    "        return X\n",
    "    \n",
    "    def _fit_transform_id2index(self, X):\n",
    "        self._fit_id2index(X)\n",
    "        X = self._transform_id2index(X)\n",
    "        return X\n",
    "    \n",
    "    def fit(self, X, y):\n",
    "        X = self._fit_transform_id2index(X)\n",
    "        self.mean_global = np.mean(y)\n",
    "        df = pd.DataFrame(np.concatenate((X, y.reshape(-1, 1)), axis=1))\n",
    "        self.mean_user_bias = df[[0, 2]].groupby(0, as_index=False).mean().sort_values(by=0)[2].values - self.mean_global\n",
    "        self.mean_bus_bias = df[[1, 2]].groupby(1, as_index=False).mean().sort_values(by=1)[2].values - self.mean_global\n",
    "        self.fitted = True\n",
    "        return self\n",
    "    \n",
    "    def _predict_no_missing(self, X):\n",
    "        if len(X) == 0:\n",
    "            return np.array([])\n",
    "        def _predict_x(x_i):\n",
    "            return self.mean_global + self.mean_user_bias[x_i[0]] + self.mean_bus_bias[x_i[1]]\n",
    "        y_pred = np.apply_along_axis(_predict_x, 1, X)\n",
    "        return y_pred\n",
    "    \n",
    "    def _predict_user_missing(self, X):\n",
    "        if len(X) == 0:\n",
    "            return np.array([])\n",
    "        def _predict_x(x_i):\n",
    "            return self.mean_global + self.mean_bus_bias[x_i[1]]\n",
    "        y_pred = np.apply_along_axis(_predict_x, 1, X)\n",
    "        return y_pred\n",
    "    \n",
    "    def _predict_bus_missing(self, X):\n",
    "        if len(X) == 0:\n",
    "            return np.array([])\n",
    "        def _predict_x(x_i):\n",
    "            return self.mean_global + self.mean_user_bias[x_i[0]]\n",
    "        y_pred = np.apply_along_axis(_predict_x, 1, X)\n",
    "        return y_pred\n",
    "        \n",
    "    def _predict_all_missing(self, X):\n",
    "        if len(X) == 0:\n",
    "            return np.array([])\n",
    "        return self.mean_global * np.ones(len(X))\n",
    "    \n",
    "    def _predict_regression(self, X):\n",
    "        X = self._transform_id2index(X)\n",
    "        y_pred = np.zeros(len(X))\n",
    "        no_missing = np.logical_and(X[:, 0] != -1, X[:, 1] != -1)\n",
    "        user_missing = np.logical_and(X[:, 0] == -1, X[:, 1] != -1)\n",
    "        bus_missing = np.logical_and(X[:, 0] != -1, X[:, 1] == -1)\n",
    "        all_missing = np.logical_and(X[:, 0] == -1, X[:, 1] == -1)\n",
    "        y_pred[no_missing] = self._predict_no_missing(X[no_missing])\n",
    "        y_pred[user_missing] = self._predict_user_missing(X[user_missing])\n",
    "        y_pred[bus_missing] = self._predict_bus_missing(X[bus_missing])\n",
    "        y_pred[all_missing] = self._predict_all_missing(X[all_missing])\n",
    "        return y_pred\n",
    "    \n",
    "    def _predict_classification(self, X):\n",
    "        y = self._predict_regression(X)\n",
    "        y = np.round(y)\n",
    "        y[y < 1] = 1\n",
    "        y[y > 5] = 5\n",
    "        return y.astype(int)\n",
    "    \n",
    "    def predict(self, X, classification=False):\n",
    "        if not self.fitted:\n",
    "            raise ValueError('Estimator not fitted.')\n",
    "        if not classification:\n",
    "            return self._predict_regression(X)\n",
    "        else:\n",
    "            return self._predict_classification(X)\n",
    "    \n",
    "    def score(self, X, y, classification=False):\n",
    "        if not classification:\n",
    "            return r2_score(y, self.predict(X, classification))\n",
    "        else:\n",
    "            return accuracy_score(y, self.predict(X, classification))"
   ]
  },
  {
   "cell_type": "code",
   "execution_count": 9,
   "metadata": {},
   "outputs": [
    {
     "name": "stdout",
     "output_type": "stream",
     "text": [
      "Sample average baseline model:\n",
      "R2 score on training set: 0.5533846228155628.\n",
      "R2 score on test set: -0.02307790642455121.\n"
     ]
    }
   ],
   "source": [
    "bm = BaselineMean().fit(X_train, y_train)\n",
    "model_name = 'Sample average baseline model'\n",
    "print(model_name + ':')\n",
    "print('R2 score on training set: {}.'.format(bm.score(X_train, y_train)))\n",
    "print('R2 score on test set: {}.'.format(bm.score(X_test, y_test)))"
   ]
  },
  {
   "cell_type": "markdown",
   "metadata": {},
   "source": [
    "$R^2$ score on the test set is much lower than that on the training set, indicating overfitting occurs."
   ]
  },
  {
   "cell_type": "markdown",
   "metadata": {},
   "source": [
    "We can also interpret the prediction of this recommender system as a classification problem by rounding the predicted values to closest labels. We can calculate the classification accuracy and plot the confusion matrix."
   ]
  },
  {
   "cell_type": "code",
   "execution_count": 10,
   "metadata": {},
   "outputs": [
    {
     "name": "stdout",
     "output_type": "stream",
     "text": [
      "Sample average baseline model:\n",
      "Classification accuracy on training set: 0.5686648953835934.\n",
      "Classification accuracy on test set: 0.31991032879442044.\n"
     ]
    },
    {
     "data": {
      "image/png": "[encoded data removed]",
      "text/plain": [
       "<matplotlib.figure.Figure at 0x4995f28>"
      ]
     },
     "metadata": {},
     "output_type": "display_data"
    }
   ],
   "source": [
    "print(model_name + ':')\n",
    "print('Classification accuracy on training set: {}.'.format(bm.score(X_train, y_train, classification=True)))\n",
    "print('Classification accuracy on test set: {}.'.format(bm.score(X_test, y_test, classification=True)))\n",
    "\n",
    "y_pred_train_label = bm.predict(X_train, classification=True)\n",
    "y_pred_test_label = bm.predict(X_test, classification=True)\n",
    "\n",
    "plt.figure(figsize=(15, 5.5))\n",
    "plt.subplot(1, 2, 1)\n",
    "plot_cm(confusion_matrix(y_train, y_pred_train_label), model_name + '\\n(on training set)')\n",
    "plt.subplot(1, 2, 2)\n",
    "plot_cm(confusion_matrix(y_test, y_pred_test_label), model_name + '\\n(on test set)')"
   ]
  },
  {
   "cell_type": "markdown",
   "metadata": {},
   "source": [
    "### Baseline model 2: estimating biases using regularized regression"
   ]
  },
  {
   "cell_type": "code",
   "execution_count": 13,
   "metadata": {},
   "outputs": [],
   "source": [
    "class BaselineRegression(BaselineMean):\n",
    "    def __init__(self):\n",
    "        super().__init__()\n",
    "        \n",
    "    def fit(self, X, y):\n",
    "        X = self._fit_transform_id2index(X)\n",
    "        self.mean_global = np.mean(y)\n",
    "        y = y - self.mean_global\n",
    "        "
   ]
  },
  {
   "cell_type": "code",
   "execution_count": 12,
   "metadata": {},
   "outputs": [],
   "source": []
  },
  {
   "cell_type": "code",
   "execution_count": null,
   "metadata": {
    "collapsed": true
   },
   "outputs": [],
   "source": []
  },
  {
   "cell_type": "code",
   "execution_count": null,
   "metadata": {
    "collapsed": true
   },
   "outputs": [],
   "source": []
  },
  {
   "cell_type": "code",
   "execution_count": null,
   "metadata": {
    "collapsed": true
   },
   "outputs": [],
   "source": []
  }
 ],
 "metadata": {
  "kernelspec": {
   "display_name": "Python 3",
   "language": "python",
   "name": "python3"
  },
  "language_info": {
   "codemirror_mode": {
    "name": "ipython",
    "version": 3
   },
   "file_extension": ".py",
   "mimetype": "text/x-python",
   "name": "python",
   "nbconvert_exporter": "python",
   "pygments_lexer": "ipython3",
   "version": "3.6.3"
  }
 },
 "nbformat": 4,
 "nbformat_minor": 2
}
